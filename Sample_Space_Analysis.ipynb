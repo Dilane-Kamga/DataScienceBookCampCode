{
 "cells": [
  {
   "cell_type": "code",
   "execution_count": 1,
   "id": "28c1661d",
   "metadata": {},
   "outputs": [],
   "source": [
    "# Creating a sample space of coin flips\n",
    "sample_space = {'Heads', 'Tails'}"
   ]
  },
  {
   "cell_type": "code",
   "execution_count": 2,
   "id": "60ea968e",
   "metadata": {},
   "outputs": [
    {
     "name": "stdout",
     "output_type": "stream",
     "text": [
      "Probability of choosing head is 0.5\n"
     ]
    }
   ],
   "source": [
    "# Computing the probability of heads\n",
    "probability_heads = 1/len(sample_space)\n",
    "print(f'Probability of choosing head is {probability_heads}')"
   ]
  },
  {
   "cell_type": "code",
   "execution_count": 3,
   "id": "868fa177",
   "metadata": {},
   "outputs": [],
   "source": [
    "# Defining event conditions\n",
    "def is_heads_or_tails(outcome):\n",
    "    return outcome in {'Heads', 'Tails'}\n",
    "\n",
    "def is_neither(outcome):\n",
    "    return not is_heads_or_tails(outcome)"
   ]
  },
  {
   "cell_type": "code",
   "execution_count": 4,
   "id": "4ce636fe",
   "metadata": {},
   "outputs": [],
   "source": [
    "# Defining additional event conditions\n",
    "def is_heads(outcome):\n",
    "    return outcome == 'Heads'\n",
    "\n",
    "def is_tails(outcome):\n",
    "    return outcome == 'Tails'"
   ]
  },
  {
   "cell_type": "code",
   "execution_count": 5,
   "id": "3c48c91a",
   "metadata": {},
   "outputs": [],
   "source": [
    "# Defining an event-detection function\n",
    "def get_matching_event(event_condition, sample_space):\n",
    "    return set ([outcome for outcome in sample_space\n",
    "                 if event_condition(outcome)])"
   ]
  },
  {
   "cell_type": "code",
   "execution_count": 6,
   "id": "9d00b8c4",
   "metadata": {},
   "outputs": [
    {
     "name": "stdout",
     "output_type": "stream",
     "text": [
      "Event Condition: is_heads_or_tails\n",
      "Event: {'Heads', 'Tails'}\n",
      "\n",
      "Event Condition: is_heads\n",
      "Event: {'Heads'}\n",
      "\n",
      "Event Condition: is_tails\n",
      "Event: {'Tails'}\n",
      "\n",
      "Event Condition: is_neither\n",
      "Event: set()\n",
      "\n"
     ]
    }
   ],
   "source": [
    "# Detecting event using event conditions\n",
    "event_conditions = [is_heads_or_tails, is_heads, is_tails, is_neither]\n",
    "\n",
    "for event_condition in event_conditions:\n",
    "    print(f\"Event Condition: {event_condition.__name__}\")\n",
    "    event = get_matching_event(event_condition, sample_space)\n",
    "    print(f'Event: {event}\\n')"
   ]
  },
  {
   "cell_type": "code",
   "execution_count": 8,
   "id": "0cc50a3b",
   "metadata": {},
   "outputs": [
    {
     "name": "stdout",
     "output_type": "stream",
     "text": [
      "Probability of event arising from 'is_heads_or_tails' is 1.0\n",
      "Probability of event arising from 'is_heads' is 0.5\n",
      "Probability of event arising from 'is_tails' is 0.5\n",
      "Probability of event arising from 'is_neither' is 0.0\n"
     ]
    }
   ],
   "source": [
    "# Computing event probabilities\n",
    "def compute_probability(event_condition, generic_sample_space):\n",
    "    event = get_matching_event(event_condition, generic_sample_space)\n",
    "    return len(event)/len(generic_sample_space)\n",
    "\n",
    "\n",
    "for event_condition in event_conditions:\n",
    "    prob = compute_probability(event_condition, sample_space)\n",
    "    name = event_condition.__name__\n",
    "    print(f\"Probability of event arising from '{name}' is {prob}\")"
   ]
  },
  {
   "cell_type": "markdown",
   "id": "ae66fe66",
   "metadata": {},
   "source": [
    "## Analyzing a biased coin"
   ]
  },
  {
   "cell_type": "code",
   "execution_count": 9,
   "id": "963a0e11",
   "metadata": {},
   "outputs": [],
   "source": [
    "# Representing a weighted sample space\n",
    "weighted_sample_space = {'Heads': 4, 'Tails': 1} "
   ]
  },
  {
   "cell_type": "code",
   "execution_count": 12,
   "id": "507b086f",
   "metadata": {},
   "outputs": [],
   "source": [
    "# Checking the weighted sample space size\n",
    "sample_space_size = sum (weighted_sample_space.values())\n",
    "assert sample_space_size == 5"
   ]
  },
  {
   "cell_type": "code",
   "execution_count": 14,
   "id": "37673df5",
   "metadata": {},
   "outputs": [],
   "source": [
    "# Checking the weighted event size\n",
    "event = get_matching_event(is_heads_or_tails, weighted_sample_space)\n",
    "event_size = sum(weighted_sample_space[outcome] for outcome in event)\n",
    "assert event_size == 5"
   ]
  },
  {
   "cell_type": "code",
   "execution_count": 16,
   "id": "d89d85b1",
   "metadata": {},
   "outputs": [],
   "source": [
    "# Defining a generalized event probability function\n",
    "def compute_event_probability(event_condition, generic_sample_space):\n",
    "    event = get_matching_event(event_condition, generic_sample_space)\n",
    "    if type(generic_sample_space) == type(set()):\n",
    "        return len(event) / len(generic_sample_space)\n",
    "    \n",
    "    event_size = sum(generic_sample_space[outcome]\n",
    "                     for outcome in event)\n",
    "    return event_size / sum(generic_sample_space.values())"
   ]
  },
  {
   "cell_type": "code",
   "execution_count": 18,
   "id": "55de6cb9",
   "metadata": {},
   "outputs": [
    {
     "name": "stdout",
     "output_type": "stream",
     "text": [
      "Probability of event arising from 'is_heads_or_tails' is 1.0\n",
      "Probability of event arising from 'is_heads' is 0.8\n",
      "Probability of event arising from 'is_tails' is 0.2\n",
      "Probability of event arising from 'is_neither' is 0.0\n"
     ]
    }
   ],
   "source": [
    "# Computing weighted event probabilities\n",
    "for event_condition in event_conditions:\n",
    "    prob = compute_event_probability(event_condition, weighted_sample_space)\n",
    "    name = event_condition.__name__\n",
    "    print(f\"Probability of event arising from '{name}' is {prob}\")"
   ]
  },
  {
   "cell_type": "code",
   "execution_count": null,
   "id": "988873ef",
   "metadata": {},
   "outputs": [],
   "source": []
  }
 ],
 "metadata": {
  "kernelspec": {
   "display_name": "Python 3",
   "language": "python",
   "name": "python3"
  },
  "language_info": {
   "codemirror_mode": {
    "name": "ipython",
    "version": 3
   },
   "file_extension": ".py",
   "mimetype": "text/x-python",
   "name": "python",
   "nbconvert_exporter": "python",
   "pygments_lexer": "ipython3",
   "version": "3.8.8"
  }
 },
 "nbformat": 4,
 "nbformat_minor": 5
}
