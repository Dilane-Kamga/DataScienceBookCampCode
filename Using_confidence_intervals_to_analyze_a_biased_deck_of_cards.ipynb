{
 "cells": [
  {
   "cell_type": "code",
   "execution_count": 2,
   "id": "969c285f",
   "metadata": {},
   "outputs": [],
   "source": [
    "# Import dependencies\n",
    "from ipynb.fs.full.Computing_confidence_intervals_using_histograms_and_NumPy_arrays import *;"
   ]
  },
  {
   "cell_type": "code",
   "execution_count": 3,
   "id": "a9bf0d6d",
   "metadata": {},
   "outputs": [],
   "source": [
    "# Generating a random red card count\n",
    "np.random.seed(0)\n",
    "total_cards = 52\n",
    "red_card_count = np.random.randint(0, total_cards + 1)"
   ]
  },
  {
   "cell_type": "code",
   "execution_count": 4,
   "id": "5171d936",
   "metadata": {},
   "outputs": [],
   "source": [
    "# Generating a black card count\n",
    "black_card_count = total_cards - red_card_count\n",
    "assert black_card_count != red_card_count"
   ]
  },
  {
   "cell_type": "code",
   "execution_count": 5,
   "id": "f8b82385",
   "metadata": {},
   "outputs": [],
   "source": [
    "# Computing card probabilities using a sample space\n",
    "weighted_sample_space = {'red_card': red_card_count, 'black_card': black_card_count}\n",
    "prob_red = compute_event_probability(lambda x: x == 'red_card', weighted_sample_space)"
   ]
  },
  {
   "cell_type": "code",
   "execution_count": 6,
   "id": "7d723881",
   "metadata": {},
   "outputs": [],
   "source": [
    "# Computing card probabilities using division\n",
    "assert prob_red == red_card_count / total_cards\n"
   ]
  },
  {
   "cell_type": "code",
   "execution_count": 7,
   "id": "c31a07bd",
   "metadata": {},
   "outputs": [
    {
     "name": "stdout",
     "output_type": "stream",
     "text": [
      "The first card in the shuffled deck is red\n"
     ]
    }
   ],
   "source": [
    "# Simulating a random card\n",
    "np.random.seed(0)\n",
    "color = 'red' if np.random.binomial(1, prob_red) else 'black'\n",
    "print(f\"The first card in the shuffled deck is {color}\")"
   ]
  },
  {
   "cell_type": "code",
   "execution_count": 8,
   "id": "fb7179ae",
   "metadata": {},
   "outputs": [
    {
     "name": "stdout",
     "output_type": "stream",
     "text": [
      "In 8 of out 10 shuffles, a red card came up first.\n"
     ]
    }
   ],
   "source": [
    "# Simulating 10 random cards\n",
    "np.random.seed(0)\n",
    "red_count = np.random.binomial(10, prob_red)\n",
    "print(f\"In {red_count} of out 10 shuffles, a red card came up first.\")"
   ]
  },
  {
   "cell_type": "code",
   "execution_count": 19,
   "id": "a89ef808",
   "metadata": {},
   "outputs": [
    {
     "name": "stdout",
     "output_type": "stream",
     "text": [
      "The frequency range 0.694584 - 0.702523 represents a 95.16% confidence interval\n"
     ]
    }
   ],
   "source": [
    "# Computing card probability confidence intervals\n",
    "np.random.seed(0)\n",
    "red_card_count_array = np.random.binomial(50000, prob_red, 100000)\n",
    "frequency_array = red_card_count_array / 50000\n",
    "\n",
    "likelihoods, bin_edges = np.histogram(frequency_array, bins='auto', density=True)\n",
    "bin_width = bin_edges[1] - bin_edges[0]\n",
    "start_index, end_index = compute_high_confidence_interval(likelihoods, bin_width)"
   ]
  },
  {
   "cell_type": "code",
   "execution_count": 21,
   "id": "80306ad9",
   "metadata": {},
   "outputs": [
    {
     "name": "stdout",
     "output_type": "stream",
     "text": [
      "The number of red cards in the deck is between 36 and 37\n"
     ]
    }
   ],
   "source": [
    "# Estimating the red card count\n",
    "range_start = round(0.694584 * total_cards)\n",
    "range_end = round(0.702523 * total_cards)\n",
    "print(f\"The number of red cards in the deck is between {range_start} and {range_end}\")"
   ]
  },
  {
   "cell_type": "code",
   "execution_count": 22,
   "id": "06349465",
   "metadata": {},
   "outputs": [
    {
     "name": "stdout",
     "output_type": "stream",
     "text": [
      "Oops! Our sampling estimation was wrong.\n"
     ]
    }
   ],
   "source": [
    "# Validating the red card count\n",
    "if red_card_count == 36 or red_card_count == 37 :\n",
    "    print('We are correct! There are 44 red cards in the deck')\n",
    "else:\n",
    "    print('Oops! Our sampling estimation was wrong.')"
   ]
  },
  {
   "cell_type": "code",
   "execution_count": null,
   "id": "5554afb3",
   "metadata": {},
   "outputs": [],
   "source": []
  }
 ],
 "metadata": {
  "kernelspec": {
   "display_name": "Python 3",
   "language": "python",
   "name": "python3"
  },
  "language_info": {
   "codemirror_mode": {
    "name": "ipython",
    "version": 3
   },
   "file_extension": ".py",
   "mimetype": "text/x-python",
   "name": "python",
   "nbconvert_exporter": "python",
   "pygments_lexer": "ipython3",
   "version": "3.8.8"
  }
 },
 "nbformat": 4,
 "nbformat_minor": 5
}
