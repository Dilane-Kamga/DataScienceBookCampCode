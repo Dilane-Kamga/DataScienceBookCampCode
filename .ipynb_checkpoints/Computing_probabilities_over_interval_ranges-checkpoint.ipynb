{
 "cells": [
  {
   "cell_type": "code",
   "execution_count": 1,
   "id": "f0ae73ca",
   "metadata": {},
   "outputs": [],
   "source": [
    "# Defining an interval function\n",
    "def is_in_interval(number, minimum, maximum):\n",
    "    return minimum <= number <= maximum"
   ]
  },
  {
   "cell_type": "code",
   "execution_count": 7,
   "id": "fb969af5",
   "metadata": {},
   "outputs": [
    {
     "name": "stdout",
     "output_type": "stream",
     "text": [
      "Probability of interval is 0.5446244855967078\n"
     ]
    }
   ],
   "source": [
    "# Computing the probability over an interval\n",
    "from ipynb.fs.full.Computing_non_trivial_probabilities import *\n",
    "prob = compute_event_probability(lambda x: is_in_interval(x, 10, 21),\n",
    "                                    weighted_sample_space)\n",
    "print(f\"Probability of interval is {prob}\")"
   ]
  },
  {
   "cell_type": "code",
   "execution_count": 8,
   "id": "317babfe",
   "metadata": {},
   "outputs": [],
   "source": [
    "# Computing the sample space for 10 coin flips\n",
    "def generate_coin_sample_space(num_flips=10):\n",
    "    weighted_sample_space = defaultdict(int)\n",
    "    for coin_flips in product(['Heads', 'Tails'], repeat=num_flips):\n",
    "        heads_count = len([outcome for outcome in coin_flips\n",
    "                            if outcome == 'Heads'])\n",
    "        weighted_sample_space[heads_count] += 1\n",
    "    return weighted_sample_space\n",
    "\n",
    "weighted_sample_space = generate_coin_sample_space()\n",
    "assert weighted_sample_space[10] == 1\n",
    "assert weighted_sample_space[9] == 10"
   ]
  },
  {
   "cell_type": "code",
   "execution_count": 9,
   "id": "9b25f7df",
   "metadata": {},
   "outputs": [
    {
     "name": "stdout",
     "output_type": "stream",
     "text": [
      "Probability of observing more than 7 heads is 0.0546875\n"
     ]
    }
   ],
   "source": [
    "# Computing an extreme head-count probability\n",
    "prob = compute_event_probability(lambda x: is_in_interval(x, 8, 10),\n",
    "                                    weighted_sample_space)\n",
    "print(f\"Probability of observing more than 7 heads is {prob}\")"
   ]
  },
  {
   "cell_type": "code",
   "execution_count": 10,
   "id": "4b697327",
   "metadata": {},
   "outputs": [
    {
     "name": "stdout",
     "output_type": "stream",
     "text": [
      "Probability of observing more than 7 heads or 7 tails is 0.109375\n"
     ]
    }
   ],
   "source": [
    "# Computing an extreme interval probability\n",
    "prob = compute_event_probability(lambda x: not is_in_interval(x, 3, 7),\n",
    "                                    weighted_sample_space)\n",
    "print(f\"Probability of observing more than 7 heads or 7 tails is {prob}\")"
   ]
  },
  {
   "cell_type": "code",
   "execution_count": 11,
   "id": "4bcadb73",
   "metadata": {},
   "outputs": [
    {
     "name": "stdout",
     "output_type": "stream",
     "text": [
      "Probability of observing more than 15 heads or 15 tails is 0.01181793212890625\n"
     ]
    }
   ],
   "source": [
    "# Analyzing extreme head counts for 20 fair coin flips\n",
    "weighted_sample_space_20_flips = generate_coin_sample_space(num_flips=20)\n",
    "prob = compute_event_probability(lambda x: not is_in_interval(x, 5, 15),\n",
    "                                    weighted_sample_space_20_flips)\n",
    "print(f\"Probability of observing more than 15 heads or 15 tails is {prob}\")"
   ]
  },
  {
   "cell_type": "code",
   "execution_count": null,
   "id": "f2bf4ac5",
   "metadata": {},
   "outputs": [],
   "source": []
  }
 ],
 "metadata": {
  "kernelspec": {
   "display_name": "Python 3",
   "language": "python",
   "name": "python3"
  },
  "language_info": {
   "codemirror_mode": {
    "name": "ipython",
    "version": 3
   },
   "file_extension": ".py",
   "mimetype": "text/x-python",
   "name": "python",
   "nbconvert_exporter": "python",
   "pygments_lexer": "ipython3",
   "version": "3.8.8"
  }
 },
 "nbformat": 4,
 "nbformat_minor": 5
}
