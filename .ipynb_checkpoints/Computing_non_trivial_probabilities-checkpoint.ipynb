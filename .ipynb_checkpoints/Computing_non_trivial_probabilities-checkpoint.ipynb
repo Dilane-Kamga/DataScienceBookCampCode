{
 "cells": [
  {
   "cell_type": "markdown",
   "id": "34967ed4",
   "metadata": {},
   "source": [
    "## Analyzing a family with four children"
   ]
  },
  {
   "cell_type": "code",
   "execution_count": 7,
   "id": "a0a11cc8",
   "metadata": {},
   "outputs": [],
   "source": [
    "# Computing the sample space of children\n",
    "possible_children = {'Boy', 'Girl'}\n",
    "sample_space = set()\n",
    "for child1 in possible_children:\n",
    "    for child2 in possible_children:\n",
    "        for child3 in possible_children:\n",
    "            for child4 in possible_children:\n",
    "                outcome = (child1, child2, child3, child4)\n",
    "                sample_space.add(outcome)"
   ]
  },
  {
   "cell_type": "code",
   "execution_count": 8,
   "id": "7452b3bd",
   "metadata": {},
   "outputs": [],
   "source": [
    "# Computing the sample space using product\n",
    "from itertools import product\n",
    "all_combinations = product(*(4 * [possible_children]))\n",
    "assert set(all_combinations) == sample_space"
   ]
  },
  {
   "cell_type": "code",
   "execution_count": 9,
   "id": "f6ce8753",
   "metadata": {},
   "outputs": [],
   "source": [
    "# Passing repeat into product\n",
    "sample_space_efficient = set(product(possible_children, repeat=4))\n",
    "assert sample_space == sample_space_efficient"
   ]
  },
  {
   "cell_type": "code",
   "execution_count": 10,
   "id": "de65a7db",
   "metadata": {},
   "outputs": [
    {
     "name": "stdout",
     "output_type": "stream",
     "text": [
      "Probability of 2 boys is 0.375\n"
     ]
    }
   ],
   "source": [
    "# Computing the probability of two boys\n",
    "from ipynb.fs.full.Sample_Space_Analysis import compute_event_probability\n",
    "def has_two_boys(outcome):\n",
    "    return len([child for child in outcome\n",
    "                 if child == 'Boy']) == 2\n",
    "\n",
    "prob = compute_event_probability(has_two_boys, sample_space_efficient)\n",
    "print(f\"Probability of 2 boys is {prob}\")"
   ]
  },
  {
   "cell_type": "markdown",
   "id": "faa35b95",
   "metadata": {},
   "source": [
    "## Analyzing multiples die rolls"
   ]
  },
  {
   "cell_type": "code",
   "execution_count": 11,
   "id": "13fe0f22",
   "metadata": {},
   "outputs": [
    {
     "name": "stdout",
     "output_type": "stream",
     "text": [
      "[1, 2, 3, 4, 5, 6]\n"
     ]
    }
   ],
   "source": [
    "# Defining all possible rolls of a six-sided die\n",
    "possible_rolls = list(range(1, 7))\n",
    "print(possible_rolls)"
   ]
  },
  {
   "cell_type": "code",
   "execution_count": 13,
   "id": "c3690130",
   "metadata": {},
   "outputs": [],
   "source": [
    "# Sample space for six consecutive die rolls\n",
    "sample_space_die = set(product(possible_rolls, repeat=6))\n"
   ]
  },
  {
   "cell_type": "code",
   "execution_count": 14,
   "id": "bb990780",
   "metadata": {},
   "outputs": [
    {
     "name": "stdout",
     "output_type": "stream",
     "text": [
      "6 rolls sum to 21 with a probability of 0.09284979423868313\n"
     ]
    }
   ],
   "source": [
    "# Computing the probability of a die-roll sum\n",
    "def has_sum_of_21(outcome):\n",
    "    return sum(outcome) == 21\n",
    "\n",
    "prob = compute_event_probability(has_sum_of_21, sample_space_die)\n",
    "print(f\"6 rolls sum to 21 with a probability of {prob}\")"
   ]
  },
  {
   "cell_type": "code",
   "execution_count": 15,
   "id": "5bd90e6f",
   "metadata": {},
   "outputs": [],
   "source": [
    "# Computing the probability using a lambda expression\n",
    "prob = compute_event_probability(lambda x: sum(x) == 21, sample_space_die)\n",
    "assert prob == compute_event_probability(has_sum_of_21, sample_space_die)"
   ]
  },
  {
   "cell_type": "markdown",
   "id": "109ce8c1",
   "metadata": {},
   "source": [
    "## Computing die-roll probabilities using weighted sample spaces"
   ]
  },
  {
   "cell_type": "code",
   "execution_count": 16,
   "id": "f99b6afd",
   "metadata": {},
   "outputs": [],
   "source": [
    "# Mapping die-roll sums to occurrence counts\n",
    "from collections import defaultdict\n",
    "weighted_sample_space = defaultdict(int)\n",
    "for outcome in sample_space_die:\n",
    "    total = sum(outcome)\n",
    "    weighted_sample_space[total] += 1"
   ]
  },
  {
   "cell_type": "code",
   "execution_count": 17,
   "id": "9624e684",
   "metadata": {},
   "outputs": [],
   "source": [
    "# Checking very rare die-roll combinations\n",
    "assert weighted_sample_space[6] == 1\n",
    "assert weighted_sample_space[36] == 1"
   ]
  },
  {
   "cell_type": "code",
   "execution_count": 18,
   "id": "05b59f6c",
   "metadata": {},
   "outputs": [
    {
     "name": "stdout",
     "output_type": "stream",
     "text": [
      "There are 4332 ways for 6 die rolls to sum to 21\n"
     ]
    }
   ],
   "source": [
    "# Checking a more common die-roll combination\n",
    "num_combinations = weighted_sample_space[21]\n",
    "print(f\"There are {num_combinations } ways for 6 die rolls to sum to 21\")"
   ]
  },
  {
   "cell_type": "code",
   "execution_count": 19,
   "id": "39317955",
   "metadata": {},
   "outputs": [],
   "source": [
    "# Exploring different ways of summing to 21\n",
    "assert sum([4, 4, 4, 4, 3, 2]) == 21\n",
    "assert sum([4, 4, 4, 5, 3, 1]) == 21"
   ]
  },
  {
   "cell_type": "code",
   "execution_count": 21,
   "id": "4afb4ca7",
   "metadata": {},
   "outputs": [],
   "source": [
    "# Comparing weighted events and regular events\n",
    "from ipynb.fs.full.Sample_Space_Analysis import get_matching_event\n",
    "event = get_matching_event(lambda x: sum(x) == 21, sample_space_die)\n",
    "assert weighted_sample_space[21] == len(event)\n",
    "assert sum(weighted_sample_space.values()) == len(sample_space_die)"
   ]
  },
  {
   "cell_type": "code",
   "execution_count": 22,
   "id": "37af3b66",
   "metadata": {},
   "outputs": [
    {
     "name": "stdout",
     "output_type": "stream",
     "text": [
      "6 rolls sum to 21 with a probability of 0.09284979423868313\n"
     ]
    }
   ],
   "source": [
    "# Computing the weighted event probability of die rolls\n",
    "prob = compute_event_probability(lambda x: x == 21,\n",
    "weighted_sample_space)\n",
    "assert prob == compute_event_probability(has_sum_of_21, sample_space_die)\n",
    "print(f\"6 rolls sum to 21 with a probability of {prob}\")"
   ]
  },
  {
   "cell_type": "code",
   "execution_count": 23,
   "id": "ade1f003",
   "metadata": {},
   "outputs": [
    {
     "name": "stdout",
     "output_type": "stream",
     "text": [
      "Number of Elements in Unweighted Sample Space:\n",
      "46656\n",
      "Number of Elements in Weighted Sample Space:\n",
      "31\n"
     ]
    }
   ],
   "source": [
    "# Comparing weighted to unweighted event space size\n",
    "print('Number of Elements in Unweighted Sample Space:')\n",
    "print(len(sample_space_die))\n",
    "print('Number of Elements in Weighted Sample Space:')\n",
    "print(len(weighted_sample_space))"
   ]
  },
  {
   "cell_type": "code",
   "execution_count": null,
   "id": "e5187eb5",
   "metadata": {},
   "outputs": [],
   "source": []
  }
 ],
 "metadata": {
  "kernelspec": {
   "display_name": "Python 3",
   "language": "python",
   "name": "python3"
  },
  "language_info": {
   "codemirror_mode": {
    "name": "ipython",
    "version": 3
   },
   "file_extension": ".py",
   "mimetype": "text/x-python",
   "name": "python",
   "nbconvert_exporter": "python",
   "pygments_lexer": "ipython3",
   "version": "3.8.8"
  }
 },
 "nbformat": 4,
 "nbformat_minor": 5
}
