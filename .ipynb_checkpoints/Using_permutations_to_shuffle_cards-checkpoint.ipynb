{
 "cells": [
  {
   "cell_type": "code",
   "execution_count": 2,
   "id": "032cb029",
   "metadata": {},
   "outputs": [],
   "source": [
    "# Import dependencies\n",
    "from ipynb.fs.full.Using_confidence_intervals_to_analyze_a_biased_deck_of_cards import *;"
   ]
  },
  {
   "cell_type": "code",
   "execution_count": 3,
   "id": "1e9609bb",
   "metadata": {},
   "outputs": [
    {
     "name": "stdout",
     "output_type": "stream",
     "text": [
      "[0, 0, 1, 1]\n"
     ]
    }
   ],
   "source": [
    "# Shuffling a four-card deck\n",
    "np.random.seed(0)\n",
    "card_deck = [1, 1, 0, 0]\n",
    "np.random.shuffle(card_deck)\n",
    "print(card_deck)"
   ]
  },
  {
   "cell_type": "code",
   "execution_count": 4,
   "id": "0d71753c",
   "metadata": {},
   "outputs": [
    {
     "name": "stdout",
     "output_type": "stream",
     "text": [
      "[0 0 1 1]\n"
     ]
    }
   ],
   "source": [
    "# Returning a copy of the shuffled deck\n",
    "np.random.seed(0)\n",
    "unshuffled_deck = [1, 1, 0, 0]\n",
    "shuffled_deck = np.random.permutation(unshuffled_deck)\n",
    "assert unshuffled_deck == [1, 1, 0, 0]\n",
    "print(shuffled_deck)"
   ]
  },
  {
   "cell_type": "code",
   "execution_count": 5,
   "id": "6cfbb258",
   "metadata": {},
   "outputs": [
    {
     "name": "stdout",
     "output_type": "stream",
     "text": [
      "(1, 1, 0, 0)\n",
      "(1, 1, 0, 0)\n",
      "(1, 0, 1, 0)\n"
     ]
    }
   ],
   "source": [
    "# Iterating over card permutations\n",
    "import itertools\n",
    "for permutation in list(itertools.permutations(unshuffled_deck))[:3]:\n",
    "    print(permutation)"
   ]
  },
  {
   "cell_type": "code",
   "execution_count": 6,
   "id": "b4fe4b6c",
   "metadata": {},
   "outputs": [
    {
     "name": "stdout",
     "output_type": "stream",
     "text": [
      "(0, 1, 2, 3)\n",
      "(0, 1, 3, 2)\n",
      "(0, 2, 1, 3)\n"
     ]
    }
   ],
   "source": [
    "# Monitoring permutation swaps\n",
    "for permutation in list(itertools.permutations([0, 1, 2, 3]))[:3]:\n",
    "    print(permutation)"
   ]
  },
  {
   "cell_type": "code",
   "execution_count": 7,
   "id": "ea158101",
   "metadata": {},
   "outputs": [
    {
     "name": "stdout",
     "output_type": "stream",
     "text": [
      "Permutation (1, 1, 0, 0) occurs 4 times\n",
      "Permutation (1, 0, 1, 0) occurs 4 times\n",
      "Permutation (1, 0, 0, 1) occurs 4 times\n",
      "Permutation (0, 1, 1, 0) occurs 4 times\n",
      "Permutation (0, 1, 0, 1) occurs 4 times\n",
      "Permutation (0, 0, 1, 1) occurs 4 times\n"
     ]
    }
   ],
   "source": [
    "# Computing permutation counts\n",
    "weighted_sample_space = defaultdict(int)\n",
    "for permutation in itertools.permutations(unshuffled_deck):\n",
    "    weighted_sample_space[permutation] += 1\n",
    "    \n",
    "for permutation, count in weighted_sample_space.items():\n",
    "    print(f\"Permutation {permutation} occurs {count} times\")    "
   ]
  },
  {
   "cell_type": "code",
   "execution_count": 8,
   "id": "4be28de9",
   "metadata": {},
   "outputs": [
    {
     "name": "stdout",
     "output_type": "stream",
     "text": [
      "Probability that a shuffle does not alter the deck is 0.16666666666666666\n"
     ]
    }
   ],
   "source": [
    "# Computing permutation probabilities\n",
    "sample_space = set(itertools.permutations(unshuffled_deck))\n",
    "event_condition = lambda x: list(x) == unshuffled_deck\n",
    "prob = compute_event_probability(event_condition, sample_space)\n",
    "assert prob == 1 / len(sample_space)\n",
    "print(f\"Probability that a shuffle does not alter the deck is {prob}\")"
   ]
  },
  {
   "cell_type": "code",
   "execution_count": 9,
   "id": "aeb1e0b0",
   "metadata": {},
   "outputs": [
    {
     "name": "stdout",
     "output_type": "stream",
     "text": [
      "Sample space for a 10-card deck contains 252 elements\n"
     ]
    }
   ],
   "source": [
    "# Computing a 10-card sample space\n",
    "red_cards = 5 * [1]\n",
    "black_cards = 5 * [0]\n",
    "unshuffled_deck = red_cards + black_cards\n",
    "sample_space = set(itertools.permutations(unshuffled_deck))\n",
    "print(f\"Sample space for a 10-card deck contains {len(sample_space)} elements\")"
   ]
  },
  {
   "cell_type": "code",
   "execution_count": null,
   "id": "ae9c727f",
   "metadata": {},
   "outputs": [],
   "source": []
  }
 ],
 "metadata": {
  "kernelspec": {
   "display_name": "Python 3",
   "language": "python",
   "name": "python3"
  },
  "language_info": {
   "codemirror_mode": {
    "name": "ipython",
    "version": 3
   },
   "file_extension": ".py",
   "mimetype": "text/x-python",
   "name": "python",
   "nbconvert_exporter": "python",
   "pygments_lexer": "ipython3",
   "version": "3.8.8"
  }
 },
 "nbformat": 4,
 "nbformat_minor": 5
}
