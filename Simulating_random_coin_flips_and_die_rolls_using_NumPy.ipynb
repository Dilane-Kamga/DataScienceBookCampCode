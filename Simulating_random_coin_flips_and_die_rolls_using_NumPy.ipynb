{
 "cells": [
  {
   "cell_type": "code",
   "execution_count": 22,
   "id": "7c9dc422",
   "metadata": {},
   "outputs": [],
   "source": [
    "# Importing NumPy\n",
    "import numpy as np\n",
    "# Import dependencies\n",
    "from ipynb.fs.full.BasicMatplotlibPlots import *;"
   ]
  },
  {
   "cell_type": "code",
   "execution_count": 2,
   "id": "8418a15a",
   "metadata": {},
   "outputs": [],
   "source": [
    "# Simulating a randomly rolled die\n",
    "die_roll = np.random.randint(1, 7)\n",
    "assert 1 <= die_roll <= 6"
   ]
  },
  {
   "cell_type": "code",
   "execution_count": 5,
   "id": "dd7ccba2",
   "metadata": {},
   "outputs": [],
   "source": [
    "# Seeding reproducible random die rolls\n",
    "np.random.seed(0)\n",
    "die_rolls = [np.random.randint(1, 7) for _ in range(3)]\n",
    "assert die_rolls == [5, 6, 1]"
   ]
  },
  {
   "cell_type": "code",
   "execution_count": 14,
   "id": "30a0178d",
   "metadata": {},
   "outputs": [
    {
     "name": "stdout",
     "output_type": "stream",
     "text": [
      "Coin landed on tails\n"
     ]
    }
   ],
   "source": [
    "# Simulating one flair coin flip\n",
    "np.random.seed(0)\n",
    "coin_flip = np.random.randint(0, 2)\n",
    "print(f\"Coin landed on {'heads' if coin_flip == 1 else 'tails'}\")"
   ]
  },
  {
   "cell_type": "code",
   "execution_count": 15,
   "id": "fe6895d9",
   "metadata": {},
   "outputs": [
    {
     "name": "stdout",
     "output_type": "stream",
     "text": [
      "Frequency of Heads is 0.8\n"
     ]
    }
   ],
   "source": [
    "#  Simulating 10 fair coin flips\n",
    "np.random.seed(0)\n",
    "def frequency_heads(coin_flip_sequence):\n",
    "    total_heads = len([head for head in coin_flip_sequence if head == 1])\n",
    "    return total_heads / len(coin_flip_sequence)\n",
    "\n",
    "coin_flips = [np.random.randint(0, 2) for _ in range(10)]\n",
    "freq_heads = frequency_heads(coin_flips)\n",
    "print(f\"Frequency of Heads is {freq_heads}\")"
   ]
  },
  {
   "cell_type": "code",
   "execution_count": 17,
   "id": "66cdfb7b",
   "metadata": {},
   "outputs": [
    {
     "data": {
      "image/png": "[encoded data removed]",
      "text/plain": [
       "<Figure size 432x288 with 1 Axes>"
      ]
     },
     "metadata": {
      "needs_background": "light"
     },
     "output_type": "display_data"
    }
   ],
   "source": [
    "# Plotting simulated fair coin-flip frequencies\n",
    "np.random.seed(0)\n",
    "coin_flips = []\n",
    "frequencies = []\n",
    "for _ in range(1000):\n",
    "    coin_flips.append(np.random.randint(0, 2))\n",
    "    frequencies.append(frequency_heads(coin_flips))\n",
    "    \n",
    "plt.plot(list(range(1000)), frequencies)\n",
    "plt.axhline(0.5, color='k')\n",
    "plt.xlabel('Number of Coin Flips')\n",
    "plt.ylabel('Head-Frequency')\n",
    "plt.show()"
   ]
  },
  {
   "cell_type": "markdown",
   "id": "77d1724a",
   "metadata": {},
   "source": [
    "## Analyzing biased coin flips"
   ]
  },
  {
   "cell_type": "code",
   "execution_count": 18,
   "id": "e8f0af5b",
   "metadata": {},
   "outputs": [
    {
     "name": "stdout",
     "output_type": "stream",
     "text": [
      "Let's flip the biased coin once.\n",
      "Biased coin landed on heads.\n",
      "\n",
      "Let's flip the biased coin 10 times.\n",
      "6 heads were observed out of 10 biased coin flips\n"
     ]
    }
   ],
   "source": [
    "# Simulating biased coin flips\n",
    "np.random.seed(0)\n",
    "print(\"Let's flip the biased coin once.\")\n",
    "coin_flip = np.random.binomial(1, 0.7)\n",
    "print(f\"Biased coin landed on {'heads' if coin_flip == 1 else 'tails'}.\")\n",
    "\n",
    "print(\"\\nLet's flip the biased coin 10 times.\")\n",
    "number_coin_flips = 10\n",
    "head_count = np.random.binomial(number_coin_flips, .7)\n",
    "print((f\"{head_count} heads were observed out of \"\n",
    "       f\"{number_coin_flips} biased coin flips\"))"
   ]
  },
  {
   "cell_type": "code",
   "execution_count": 19,
   "id": "4901a184",
   "metadata": {},
   "outputs": [
    {
     "name": "stdout",
     "output_type": "stream",
     "text": [
      "Frequency of Heads is 0.697\n"
     ]
    }
   ],
   "source": [
    "# Computing coin-flip-frequency convergence\n",
    "np.random.seed(0)\n",
    "head_count = np.random.binomial(1000, 0.7)\n",
    "frequency = head_count / 1000\n",
    "print(f\"Frequency of Heads is {frequency}\")"
   ]
  },
  {
   "cell_type": "code",
   "execution_count": 20,
   "id": "e3889721",
   "metadata": {},
   "outputs": [
    {
     "name": "stdout",
     "output_type": "stream",
     "text": [
      "Frequency at iteration 1 is 0.69\n",
      "Frequency at iteration 2 is 0.7\n",
      "Frequency equals the probability!\n",
      "\n",
      "Frequency at iteration 3 is 0.707\n",
      "Frequency at iteration 4 is 0.702\n",
      "Frequency at iteration 5 is 0.699\n"
     ]
    }
   ],
   "source": [
    "# Recomputing coin-flip-frequency convergence\n",
    "np.random.seed(0)\n",
    "assert np.random.binomial(1000, 0.7) / 1000 == 0.697\n",
    "for i in range(1, 6):\n",
    "    head_count = np.random.binomial(1000, 0.7)\n",
    "    frequency = head_count / 1000\n",
    "    print(f\"Frequency at iteration {i} is {frequency}\")\n",
    "    if frequency == 0.7:\n",
    "        print(\"Frequency equals the probability!\\n\")"
   ]
  },
  {
   "cell_type": "code",
   "execution_count": null,
   "id": "9c5327a1",
   "metadata": {},
   "outputs": [],
   "source": []
  }
 ],
 "metadata": {
  "kernelspec": {
   "display_name": "Python 3",
   "language": "python",
   "name": "python3"
  },
  "language_info": {
   "codemirror_mode": {
    "name": "ipython",
    "version": 3
   },
   "file_extension": ".py",
   "mimetype": "text/x-python",
   "name": "python",
   "nbconvert_exporter": "python",
   "pygments_lexer": "ipython3",
   "version": "3.8.8"
  }
 },
 "nbformat": 4,
 "nbformat_minor": 5
}
